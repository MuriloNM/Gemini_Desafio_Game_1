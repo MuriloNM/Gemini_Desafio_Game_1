{
  "cells": [
    {
      "cell_type": "markdown",
      "metadata": {
        "id": "view-in-github",
        "colab_type": "text"
      },
      "source": [
        "<a href=\"https://colab.research.google.com/github/MuriloNM/Gemini_Desafio_Game_1/blob/main/templates/Game_1.ipynb\" target=\"_parent\"><img src=\"https://colab.research.google.com/assets/colab-badge.svg\" alt=\"Open In Colab\"/></a>"
      ]
    },
    {
      "cell_type": "markdown",
      "metadata": {
        "id": "FKwyTRdwB8aW"
      },
      "source": [
        "## Setup"
      ]
    },
    {
      "cell_type": "markdown",
      "source": [],
      "metadata": {
        "id": "VPHcfQlgai_B"
      }
    },
    {
      "cell_type": "markdown",
      "metadata": {
        "id": "rlE8UqxrDIez"
      },
      "source": [
        "### Install & import\n"
      ]
    },
    {
      "cell_type": "code",
      "execution_count": null,
      "metadata": {
        "id": "cZiU4TKzznh9"
      },
      "outputs": [],
      "source": [
        "!pip install -U -q google-generativeai"
      ]
    },
    {
      "cell_type": "code",
      "execution_count": 14,
      "metadata": {
        "id": "kWIuwKG2_oWE"
      },
      "outputs": [],
      "source": [
        "# import necessary modules.\n",
        "import google.generativeai as genai\n",
        "import json\n",
        "import base64\n",
        "import pathlib\n",
        "import pprint\n",
        "import requests\n",
        "import mimetypes\n",
        "from IPython.display import Markdown,clear_output"
      ]
    },
    {
      "cell_type": "markdown",
      "metadata": {
        "id": "ZoRWILAtCzBE"
      },
      "source": [
        "API_KEY"
      ]
    },
    {
      "cell_type": "code",
      "execution_count": 12,
      "metadata": {
        "id": "LaLCwNlkCyQd",
        "colab": {
          "base_uri": "https://localhost:8080/",
          "height": 349
        },
        "outputId": "329ad6b8-7a9d-4f9d-ef86-444c40944da5"
      },
      "outputs": [
        {
          "output_type": "error",
          "ename": "ImportError",
          "evalue": "cannot import name 'colab' from 'google.colab' (/usr/local/lib/python3.10/dist-packages/google/colab/__init__.py)",
          "traceback": [
            "\u001b[0;31m---------------------------------------------------------------------------\u001b[0m",
            "\u001b[0;31mImportError\u001b[0m                               Traceback (most recent call last)",
            "\u001b[0;32m<ipython-input-12-c4681c1ae1a9>\u001b[0m in \u001b[0;36m<cell line: 1>\u001b[0;34m()\u001b[0m\n\u001b[0;32m----> 1\u001b[0;31m \u001b[0;32mfrom\u001b[0m \u001b[0mgoogle\u001b[0m\u001b[0;34m.\u001b[0m\u001b[0mcolab\u001b[0m \u001b[0;32mimport\u001b[0m \u001b[0muserdata\u001b[0m\u001b[0;34m,\u001b[0m\u001b[0mcolab\u001b[0m\u001b[0;34m\u001b[0m\u001b[0;34m\u001b[0m\u001b[0m\n\u001b[0m\u001b[1;32m      2\u001b[0m \u001b[0;34m\u001b[0m\u001b[0m\n\u001b[1;32m      3\u001b[0m \u001b[0mAPI_KEY\u001b[0m\u001b[0;34m=\u001b[0m\u001b[0muserdata\u001b[0m\u001b[0;34m.\u001b[0m\u001b[0mget\u001b[0m\u001b[0;34m(\u001b[0m\u001b[0;34m'minhakey'\u001b[0m\u001b[0;34m)\u001b[0m\u001b[0;34m\u001b[0m\u001b[0;34m\u001b[0m\u001b[0m\n",
            "\u001b[0;31mImportError\u001b[0m: cannot import name 'colab' from 'google.colab' (/usr/local/lib/python3.10/dist-packages/google/colab/__init__.py)",
            "",
            "\u001b[0;31m---------------------------------------------------------------------------\u001b[0;32m\nNOTE: If your import is failing due to a missing package, you can\nmanually install dependencies using either !pip or !apt.\n\nTo view examples of installing some common dependencies, click the\n\"Open Examples\" button below.\n\u001b[0;31m---------------------------------------------------------------------------\u001b[0m\n"
          ],
          "errorDetails": {
            "actions": [
              {
                "action": "open_url",
                "actionText": "Open Examples",
                "url": "/notebooks/snippets/importing_libraries.ipynb"
              }
            ]
          }
        }
      ],
      "source": [
        "from google.colab import userdata\n",
        "\n",
        "API_KEY=userdata.get('minhakey')"
      ]
    },
    {
      "cell_type": "code",
      "execution_count": 3,
      "metadata": {
        "id": "_SvYoR3WCeKr"
      },
      "outputs": [],
      "source": [
        "# Configure the client library by providing your API key.\n",
        "genai.configure(api_key=API_KEY)"
      ]
    },
    {
      "cell_type": "markdown",
      "metadata": {
        "id": "weo-o73WDpdm"
      },
      "source": [
        "### Parse the arguments"
      ]
    },
    {
      "cell_type": "code",
      "execution_count": 4,
      "metadata": {
        "id": "1681593ef561"
      },
      "outputs": [],
      "source": [
        "generation_config = {\n",
        "  \"temperature\": 0,\n",
        "  \"top_p\": 0.05,\n",
        "  \"top_k\": 1,\n",
        "  \"max_output_tokens\": 2048,\n",
        "}\n",
        "contents = []\n",
        "stream = False"
      ]
    },
    {
      "cell_type": "markdown",
      "source": [
        "## Jogo"
      ],
      "metadata": {
        "id": "plo1mGuaYlQg"
      }
    },
    {
      "cell_type": "code",
      "source": [
        "lugar=input(\"Insira um lugar:\")"
      ],
      "metadata": {
        "id": "tF96twpqGM-E",
        "outputId": "fd26fe36-fcab-4bdf-e2c0-5841eeda1b7d",
        "colab": {
          "base_uri": "https://localhost:8080/"
        }
      },
      "execution_count": 19,
      "outputs": [
        {
          "name": "stdout",
          "output_type": "stream",
          "text": [
            "Insira um lugar:cozinha\n"
          ]
        }
      ]
    },
    {
      "cell_type": "markdown",
      "metadata": {
        "id": "E7zAD69vE92b"
      },
      "source": [
        "### Call the API"
      ]
    },
    {
      "cell_type": "code",
      "execution_count": null,
      "metadata": {
        "id": "LB2LxPmAB95V"
      },
      "outputs": [],
      "source": [
        "# Call the model and print the response.\n",
        "model = genai.GenerativeModel(model_name=\"gemini-1.0-pro\",\n",
        "                              generation_config=generation_config)\n",
        "chat = model.start_chat(history=[])\n",
        "user_input = f\"Pergunta: No(a) {lugar} tem ...\\nCria uma tabela com as 10 palavras mais prováveis de completar essa frase. Deve conter as colunas \\\"Item\\\" (contendo a palavra) e \\\"Probabilidade\\\" (contendo o valor exato da probabilidade com 1 casa decimal)\\nDevem ser incluídos apenas itens que tenham a ver com o lugar\"\n",
        "\n",
        "\n",
        "response = chat.send_message(\n",
        "    user_input,\n",
        "    stream=stream)\n",
        "#display(Markdown(response.text))\n",
        "response = chat.send_message(\n",
        "  f'''A partir de agora esta tabela deve ser mostrada porém somente com os itens de probabilidade revelados, os itens devem estar como \"--\" e eu vou tentar acertar se o item está ou não nesta lista inicial, caso eu acerte mostre novamente a tabela com os dados de itens em \"--\" exceto aqueles que eu acertei.\n",
        "  Eu ainda não comecei a tentar acertar.\n",
        "  ''',\n",
        "  stream=stream)\n",
        "display(Markdown(response.text))\n",
        "guess=input('Dê o seu palpite: ')\n",
        "while guess != 'fim':\n",
        "  clear_output()\n",
        "  response = chat.send_message(\n",
        "    guess,\n",
        "    stream=stream)\n",
        "  display(Markdown(response.text))\n",
        "  guess=input('Dê o seu palpite: ')\n",
        "else:\n",
        "  clear_output()\n",
        "  response = chat.send_message(\n",
        "    \"Fim de jogo. Me mostre em negrito as que eu acertei e a tabela com o resultado final\",\n",
        "    stream=stream)\n",
        "  display(Markdown(response.text))\n",
        "  guess=input('Dê o seu palpite: ')\n",
        "  print(\"Fim do jogo\")"
      ]
    }
  ],
  "metadata": {
    "colab": {
      "collapsed_sections": [
        "Tce3stUlHN0L"
      ],
      "name": "aistudio_gemini_prompt_chat_b64.ipynb",
      "toc_visible": true,
      "provenance": [],
      "include_colab_link": true
    },
    "kernelspec": {
      "display_name": "Python 3",
      "name": "python3"
    }
  },
  "nbformat": 4,
  "nbformat_minor": 0
}