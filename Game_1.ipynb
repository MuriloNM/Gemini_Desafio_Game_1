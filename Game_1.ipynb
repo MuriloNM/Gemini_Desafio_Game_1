{
  "cells": [
    {
      "cell_type": "markdown",
      "metadata": {
        "id": "view-in-github",
        "colab_type": "text"
      },
      "source": [
        "<a href=\"https://colab.research.google.com/github/MuriloNM/Gemini_Desafio_Game_1/blob/main/Game_1.ipynb\" target=\"_parent\"><img src=\"https://colab.research.google.com/assets/colab-badge.svg\" alt=\"Open In Colab\"/></a>"
      ]
    },
    {
      "cell_type": "markdown",
      "metadata": {
        "id": "FKwyTRdwB8aW"
      },
      "source": [
        "## Setup"
      ]
    },
    {
      "cell_type": "markdown",
      "source": [],
      "metadata": {
        "id": "VPHcfQlgai_B"
      }
    },
    {
      "cell_type": "markdown",
      "metadata": {
        "id": "rlE8UqxrDIez"
      },
      "source": [
        "### Install & import\n"
      ]
    },
    {
      "cell_type": "code",
      "execution_count": null,
      "metadata": {
        "id": "cZiU4TKzznh9"
      },
      "outputs": [],
      "source": [
        "!pip install -U -q google-generativeai"
      ]
    },
    {
      "cell_type": "code",
      "execution_count": null,
      "metadata": {
        "id": "kWIuwKG2_oWE"
      },
      "outputs": [],
      "source": [
        "# import necessary modules.\n",
        "import google.generativeai as genai\n",
        "import json\n",
        "import base64\n",
        "import pathlib\n",
        "import pprint\n",
        "import requests\n",
        "import mimetypes\n",
        "from IPython.display import Markdown,clear_output"
      ]
    },
    {
      "cell_type": "markdown",
      "metadata": {
        "id": "ZoRWILAtCzBE"
      },
      "source": [
        "API_KEY"
      ]
    },
    {
      "cell_type": "code",
      "execution_count": null,
      "metadata": {
        "id": "LaLCwNlkCyQd"
      },
      "outputs": [],
      "source": [
        "from google.colab import userdata\n",
        "\n",
        "API_KEY=userdata.get('minhakey')"
      ]
    },
    {
      "cell_type": "code",
      "execution_count": null,
      "metadata": {
        "id": "_SvYoR3WCeKr"
      },
      "outputs": [],
      "source": [
        "# Configure the client library by providing your API key.\n",
        "genai.configure(api_key=API_KEY)"
      ]
    },
    {
      "cell_type": "markdown",
      "metadata": {
        "id": "weo-o73WDpdm"
      },
      "source": [
        "### Parse the arguments"
      ]
    },
    {
      "cell_type": "code",
      "execution_count": null,
      "metadata": {
        "id": "1681593ef561"
      },
      "outputs": [],
      "source": [
        "generation_config = {\n",
        "  \"temperature\": 0,\n",
        "  \"top_p\": 0.05,\n",
        "  \"top_k\": 1,\n",
        "  \"max_output_tokens\": 2048,\n",
        "}\n",
        "contents = []\n",
        "stream = False"
      ]
    },
    {
      "cell_type": "markdown",
      "source": [
        "## Jogo"
      ],
      "metadata": {
        "id": "plo1mGuaYlQg"
      }
    },
    {
      "cell_type": "markdown",
      "metadata": {
        "id": "E7zAD69vE92b"
      },
      "source": [
        "###"
      ]
    },
    {
      "cell_type": "code",
      "execution_count": null,
      "metadata": {
        "id": "LB2LxPmAB95V",
        "colab": {
          "base_uri": "https://localhost:8080/",
          "height": 433
        },
        "outputId": "588a3209-6efa-4e7e-9a83-59b53a16d566"
      },
      "outputs": [
        {
          "output_type": "display_data",
          "data": {
            "text/plain": [
              "<IPython.core.display.Markdown object>"
            ],
            "text/markdown": "Você não tentou acertar nenhuma palavra, então não há acertos.\n\nTabela final:\n\n| Item | Probabilidade |\n|---|---|\n| **quartos** | 0,2 |\n| **suítes** | 0,15 |\n| **piscina** | 0,1 |\n| **restaurante** | 0,1 |\n| **bar** | 0,08 |\n| **academia** | 0,07 |\n| **spa** | 0,06 |\n| **sala de conferências** | 0,05 |\n| **estacionamento** | 0,04 |\n| **vista para o mar** | 0,03 |"
          },
          "metadata": {}
        },
        {
          "output_type": "stream",
          "name": "stdout",
          "text": [
            "Fim do jogo\n"
          ]
        }
      ],
      "source": [
        "# Call the model\n",
        "\n",
        "model = genai.GenerativeModel(model_name=\"gemini-1.0-pro\",\n",
        "                              generation_config=generation_config)\n",
        "chat = model.start_chat(history=[])\n",
        "\n",
        "# dado inicial do jogo\n",
        "lugar=input(\"Este é um jogo chamado top 10. Nele você será desafiado a descobrir os itens\\nmais comuns encontrados em um lugar que você mesmo vai escolher.\\nEntão vamos lá.\\nInsira um lugar: \")\n",
        "user_input = f\"Pergunta: No(a) {lugar} tem ...\\nCria uma tabela com as 10 palavras mais prováveis de completar essa frase. Deve conter as colunas \\\"Item\\\" (contendo a palavra) e \\\"Probabilidade\\\" (contendo o valor exato da probabilidade com 1 casa decimal)\\nDevem ser incluídos apenas itens que tenham a ver com o lugar.\"\n",
        "response = chat.send_message(\n",
        "    user_input,\n",
        "    stream=stream)\n",
        "#display(Markdown(response.text)) ## aqui estaria a resposta final\n",
        "\n",
        "# complementação e preparação do jogo\n",
        "response = chat.send_message(\n",
        "  f'''A partir de agora esta tabela deve ser mostrada porém somente com os itens de probabilidade revelados, os itens devem estar como \"--\" e eu vou tentar acertar se o item está ou não nesta lista inicial, caso eu acerte mostre novamente a tabela com os dados de itens em \"--\" exceto aqueles que eu acertei.\n",
        "  Me avise caso eu acertar ou errar a cada tentativa.\n",
        "  Eu ainda não comecei a tentar acertar.\n",
        "  ''',\n",
        "  stream=stream)\n",
        "display(Markdown(response.text))\n",
        "guess=input('Dê o seu palpite \"fim\" caso queira encerrar o jogo): ') # primeiro palpite\n",
        "while guess != 'fim':\n",
        "  clear_output()\n",
        "  response = chat.send_message(\n",
        "    guess,\n",
        "    stream=stream)\n",
        "  display(Markdown(response.text))\n",
        "  guess=input('Dê o seu palpite (digite \"fim\" caso queira encerrar o jogo): ') # palpites seguintes\n",
        "else:\n",
        "  clear_output()\n",
        "  response = chat.send_message(\n",
        "    \"Fim de jogo. Me mostre em negrito as que eu acertei e a tabela com o resultado final mostrando todos os itens inclusive os que eu não acertei\",\n",
        "    stream=stream)\n",
        "  display(Markdown(response.text))\n",
        "  print(\"Fim do jogo\")"
      ]
    }
  ],
  "metadata": {
    "colab": {
      "provenance": [],
      "include_colab_link": true
    },
    "kernelspec": {
      "display_name": "Python 3",
      "name": "python3"
    }
  },
  "nbformat": 4,
  "nbformat_minor": 0
}