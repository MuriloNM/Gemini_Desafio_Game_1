{
  "cells": [
    {
      "cell_type": "markdown",
      "metadata": {
        "id": "view-in-github",
        "colab_type": "text"
      },
      "source": [
        "<a href=\"https://colab.research.google.com/github/MuriloNM/Gemini_Desafio_Game_1/blob/main/Game_1.ipynb\" target=\"_parent\"><img src=\"https://colab.research.google.com/assets/colab-badge.svg\" alt=\"Open In Colab\"/></a>"
      ]
    },
    {
      "cell_type": "markdown",
      "metadata": {
        "id": "FKwyTRdwB8aW"
      },
      "source": [
        "## Setup"
      ]
    },
    {
      "cell_type": "markdown",
      "source": [],
      "metadata": {
        "id": "VPHcfQlgai_B"
      }
    },
    {
      "cell_type": "markdown",
      "metadata": {
        "id": "rlE8UqxrDIez"
      },
      "source": [
        "### Install & import\n"
      ]
    },
    {
      "cell_type": "code",
      "execution_count": 2,
      "metadata": {
        "id": "cZiU4TKzznh9"
      },
      "outputs": [],
      "source": [
        "!pip install -U -q google-generativeai"
      ]
    },
    {
      "cell_type": "code",
      "execution_count": 3,
      "metadata": {
        "id": "kWIuwKG2_oWE"
      },
      "outputs": [],
      "source": [
        "# import necessary modules.\n",
        "import google.generativeai as genai\n",
        "import json\n",
        "import base64\n",
        "import pathlib\n",
        "import pprint\n",
        "import requests\n",
        "import mimetypes\n",
        "from IPython.display import Markdown,clear_output"
      ]
    },
    {
      "cell_type": "markdown",
      "metadata": {
        "id": "ZoRWILAtCzBE"
      },
      "source": [
        "API_KEY"
      ]
    },
    {
      "cell_type": "code",
      "execution_count": 4,
      "metadata": {
        "id": "LaLCwNlkCyQd"
      },
      "outputs": [],
      "source": [
        "from google.colab import userdata\n",
        "\n",
        "API_KEY=userdata.get('minhakey')"
      ]
    },
    {
      "cell_type": "code",
      "execution_count": 5,
      "metadata": {
        "id": "_SvYoR3WCeKr"
      },
      "outputs": [],
      "source": [
        "# Configure the client library by providing your API key.\n",
        "genai.configure(api_key=API_KEY)"
      ]
    },
    {
      "cell_type": "markdown",
      "metadata": {
        "id": "weo-o73WDpdm"
      },
      "source": [
        "### Parse the arguments"
      ]
    },
    {
      "cell_type": "code",
      "execution_count": 6,
      "metadata": {
        "id": "1681593ef561"
      },
      "outputs": [],
      "source": [
        "generation_config = {\n",
        "  \"temperature\": 0,\n",
        "  \"top_p\": 0.05,\n",
        "  \"top_k\": 1,\n",
        "  \"max_output_tokens\": 2048,\n",
        "}\n",
        "contents = []\n",
        "stream = False"
      ]
    },
    {
      "cell_type": "markdown",
      "source": [
        "## Jogo"
      ],
      "metadata": {
        "id": "plo1mGuaYlQg"
      }
    },
    {
      "cell_type": "markdown",
      "metadata": {
        "id": "E7zAD69vE92b"
      },
      "source": [
        "###"
      ]
    },
    {
      "cell_type": "code",
      "execution_count": 7,
      "metadata": {
        "id": "LB2LxPmAB95V",
        "colab": {
          "base_uri": "https://localhost:8080/",
          "height": 600
        },
        "outputId": "ac16ef2a-57c5-4602-dd1e-b46921f54157"
      },
      "outputs": [
        {
          "output_type": "display_data",
          "data": {
            "text/plain": [
              "<IPython.core.display.Markdown object>"
            ],
            "text/markdown": "**Itens que você acertou:**\n\n* **Pessoa**\n* **Comida**\n* **Água**\n* **Mar**\n\n**Tabela com o resultado final:**\n\n| Item | Probabilidade |\n|---|---|\n| **Pessoa** | 0,1 |\n| **Comida** | 0,2 |\n| **Água** | 0,3 |\n| **Mar** | 0,4 |\n| Areia | 0,9 |\n| Ondas | 0,7 |\n| Conchas | 0,6 |\n| Sol | 0,5 |\n| Guarda-sol | 0,4 |\n| Cadeira de praia | 0,3 |\n| Toalha | 0,2 |\n| Vento | 0,1 |\n\nParabéns por acertar todos os itens!"
          },
          "metadata": {}
        },
        {
          "output_type": "stream",
          "name": "stdout",
          "text": [
            "Fim do jogo\n"
          ]
        }
      ],
      "source": [
        "# Call the model\n",
        "\n",
        "model = genai.GenerativeModel(model_name=\"gemini-1.0-pro\",\n",
        "                              generation_config=generation_config)\n",
        "chat = model.start_chat(history=[])\n",
        "\n",
        "# dado inicial do jogo\n",
        "lugar=input(\"Insira um lugar: \")\n",
        "user_input = f\"Pergunta: No(a) {lugar} tem ...\\nCria uma tabela com as 10 palavras mais prováveis de completar essa frase. Deve conter as colunas \\\"Item\\\" (contendo a palavra) e \\\"Probabilidade\\\" (contendo o valor exato da probabilidade com 1 casa decimal)\\nDevem ser incluídos apenas itens que tenham a ver com o lugar.\"\n",
        "response = chat.send_message(\n",
        "    user_input,\n",
        "    stream=stream)\n",
        "#display(Markdown(response.text)) ## aqui estaria a resposta final\n",
        "\n",
        "# complementação e preparação do jogo\n",
        "response = chat.send_message(\n",
        "  f'''A partir de agora esta tabela deve ser mostrada porém somente com os itens de probabilidade revelados, os itens devem estar como \"--\" e eu vou tentar acertar se o item está ou não nesta lista inicial, caso eu acerte mostre novamente a tabela com os dados de itens em \"--\" exceto aqueles que eu acertei.\n",
        "  Me avise caso eu acertar ou errar a cada tentativa.\n",
        "  Eu ainda não comecei a tentar acertar.\n",
        "  ''',\n",
        "  stream=stream)\n",
        "display(Markdown(response.text))\n",
        "guess=input('Dê o seu palpite \"fim\" caso queira encerrar o jogo): ') # primeiro palpite\n",
        "while guess != 'fim':\n",
        "  clear_output()\n",
        "  response = chat.send_message(\n",
        "    guess,\n",
        "    stream=stream)\n",
        "  display(Markdown(response.text))\n",
        "  guess=input('Dê o seu palpite (digite \"fim\" caso queira encerrar o jogo): ') # palpites seguintes\n",
        "else:\n",
        "  clear_output()\n",
        "  response = chat.send_message(\n",
        "    \"Fim de jogo. Me mostre em negrito as que eu acertei e a tabela com o resultado final\",\n",
        "    stream=stream)\n",
        "  display(Markdown(response.text))\n",
        "  print(\"Fim do jogo\")"
      ]
    }
  ],
  "metadata": {
    "colab": {
      "provenance": [],
      "include_colab_link": true
    },
    "kernelspec": {
      "display_name": "Python 3",
      "name": "python3"
    }
  },
  "nbformat": 4,
  "nbformat_minor": 0
}