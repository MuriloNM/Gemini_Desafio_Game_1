{
  "cells": [
    {
      "cell_type": "markdown",
      "metadata": {
        "id": "view-in-github",
        "colab_type": "text"
      },
      "source": [
        "<a href=\"https://colab.research.google.com/github/MuriloNM/Gemini_Desafio_Game_1/blob/main/Game_1.ipynb\" target=\"_parent\"><img src=\"https://colab.research.google.com/assets/colab-badge.svg\" alt=\"Open In Colab\"/></a>"
      ]
    },
    {
      "cell_type": "markdown",
      "metadata": {
        "id": "FKwyTRdwB8aW"
      },
      "source": [
        "## Setup"
      ]
    },
    {
      "cell_type": "markdown",
      "source": [],
      "metadata": {
        "id": "VPHcfQlgai_B"
      }
    },
    {
      "cell_type": "markdown",
      "metadata": {
        "id": "rlE8UqxrDIez"
      },
      "source": [
        "### Install & import\n"
      ]
    },
    {
      "cell_type": "code",
      "execution_count": null,
      "metadata": {
        "id": "cZiU4TKzznh9"
      },
      "outputs": [],
      "source": [
        "!pip install -U -q google-generativeai"
      ]
    },
    {
      "cell_type": "code",
      "execution_count": null,
      "metadata": {
        "id": "kWIuwKG2_oWE"
      },
      "outputs": [],
      "source": [
        "# import necessary modules.\n",
        "import google.generativeai as genai\n",
        "import json\n",
        "import base64\n",
        "import pathlib\n",
        "import pprint\n",
        "import requests\n",
        "import mimetypes\n",
        "from IPython.display import Markdown,clear_output"
      ]
    },
    {
      "cell_type": "markdown",
      "metadata": {
        "id": "ZoRWILAtCzBE"
      },
      "source": [
        "API_KEY"
      ]
    },
    {
      "cell_type": "code",
      "execution_count": null,
      "metadata": {
        "id": "LaLCwNlkCyQd"
      },
      "outputs": [],
      "source": [
        "from google.colab import userdata\n",
        "\n",
        "API_KEY=userdata.get('minhakey')"
      ]
    },
    {
      "cell_type": "code",
      "execution_count": null,
      "metadata": {
        "id": "_SvYoR3WCeKr"
      },
      "outputs": [],
      "source": [
        "# Configure the client library by providing your API key.\n",
        "genai.configure(api_key=API_KEY)"
      ]
    },
    {
      "cell_type": "markdown",
      "metadata": {
        "id": "weo-o73WDpdm"
      },
      "source": [
        "### Parse the arguments"
      ]
    },
    {
      "cell_type": "code",
      "execution_count": null,
      "metadata": {
        "id": "1681593ef561"
      },
      "outputs": [],
      "source": [
        "generation_config = {\n",
        "  \"temperature\": 0,\n",
        "  \"top_p\": 0.05,\n",
        "  \"top_k\": 1,\n",
        "  \"max_output_tokens\": 2048,\n",
        "}\n",
        "contents = []\n",
        "stream = False"
      ]
    },
    {
      "cell_type": "markdown",
      "source": [
        "## Jogo"
      ],
      "metadata": {
        "id": "plo1mGuaYlQg"
      }
    },
    {
      "cell_type": "code",
      "source": [],
      "metadata": {
        "id": "tF96twpqGM-E"
      },
      "execution_count": null,
      "outputs": []
    },
    {
      "cell_type": "markdown",
      "metadata": {
        "id": "E7zAD69vE92b"
      },
      "source": [
        "###"
      ]
    },
    {
      "cell_type": "code",
      "execution_count": null,
      "metadata": {
        "id": "LB2LxPmAB95V",
        "colab": {
          "base_uri": "https://localhost:8080/",
          "height": 536
        },
        "outputId": "b69e40bd-359b-46af-c76d-483cb8b743f5"
      },
      "outputs": [
        {
          "output_type": "display_data",
          "data": {
            "text/plain": [
              "<IPython.core.display.Markdown object>"
            ],
            "text/markdown": "**Itens acertados:**\n\n* **Cadeira**\n* **Porta**\n\n**Tabela final:**\n\n| Item | Probabilidade |\n|---|---|\n| **Cadeira** | 0,1 |\n| **Porta** | 0,1 |\n| Cama | 0,3 |\n| Guarda-roupa | 0,2 |\n| Cômoda | 0,1 |\n| Mesa de cabeceira | 0,1 |\n| Espelho | 0,1 |\n| Janela | 0,1 |\n| Cortinas | 0,1 |\n| Tapete | 0,1 |\n| Lâmpada | 0,1 |\n| Quadro | 0,1 |"
          },
          "metadata": {}
        },
        {
          "output_type": "stream",
          "name": "stdout",
          "text": [
            "Fim do jogo\n"
          ]
        }
      ],
      "source": [
        "# Call the model\n",
        "\n",
        "model = genai.GenerativeModel(model_name=\"gemini-1.0-pro\",\n",
        "                              generation_config=generation_config)\n",
        "chat = model.start_chat(history=[])\n",
        "\n",
        "# dado inicial do jogo\n",
        "lugar=input(\"Insira um lugar: \")\n",
        "user_input = f\"Pergunta: No(a) {lugar} tem ...\\nCria uma tabela com as 10 palavras mais prováveis de completar essa frase. Deve conter as colunas \\\"Item\\\" (contendo a palavra) e \\\"Probabilidade\\\" (contendo o valor exato da probabilidade com 1 casa decimal)\\nDevem ser incluídos apenas itens que tenham a ver com o lugar.\"\n",
        "response = chat.send_message(\n",
        "    user_input,\n",
        "    stream=stream)\n",
        "#display(Markdown(response.text)) ## aqui estaria a resposta final\n",
        "\n",
        "# complementação e preparação do jogo\n",
        "response = chat.send_message(\n",
        "  f'''A partir de agora esta tabela deve ser mostrada porém somente com os itens de probabilidade revelados, os itens devem estar como \"--\" e eu vou tentar acertar se o item está ou não nesta lista inicial, caso eu acerte mostre novamente a tabela com os dados de itens em \"--\" exceto aqueles que eu acertei.\n",
        "  Me avise caso eu acertar ou errar a cada tentativa.\n",
        "  Eu ainda não comecei a tentar acertar.\n",
        "  ''',\n",
        "  stream=stream)\n",
        "display(Markdown(response.text))\n",
        "guess=input('Dê o seu palpite: ') # primeiro palpite\n",
        "while guess != 'fim':\n",
        "  clear_output()\n",
        "  response = chat.send_message(\n",
        "    guess,\n",
        "    stream=stream)\n",
        "  display(Markdown(response.text))\n",
        "  guess=input('Dê o seu palpite: ') # palpites seguintes\n",
        "else:\n",
        "  clear_output()\n",
        "  response = chat.send_message(\n",
        "    \"Fim de jogo. Me mostre em negrito as que eu acertei e a tabela com o resultado final\",\n",
        "    stream=stream)\n",
        "  display(Markdown(response.text))\n",
        "  print(\"Fim do jogo\")"
      ]
    }
  ],
  "metadata": {
    "colab": {
      "collapsed_sections": [
        "Tce3stUlHN0L"
      ],
      "toc_visible": true,
      "provenance": [],
      "include_colab_link": true
    },
    "kernelspec": {
      "display_name": "Python 3",
      "name": "python3"
    }
  },
  "nbformat": 4,
  "nbformat_minor": 0
}